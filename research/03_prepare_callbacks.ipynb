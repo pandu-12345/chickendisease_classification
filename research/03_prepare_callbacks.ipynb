{
 "cells": [
  {
   "cell_type": "code",
   "execution_count": 1,
   "metadata": {},
   "outputs": [],
   "source": [
    "import os\n"
   ]
  },
  {
   "cell_type": "code",
   "execution_count": 2,
   "metadata": {},
   "outputs": [
    {
     "data": {
      "text/plain": [
       "'c:\\\\Users\\\\jhasu\\\\OneDrive\\\\Desktop\\\\chickenclassifier\\\\chickendisease_classification\\\\research'"
      ]
     },
     "execution_count": 2,
     "metadata": {},
     "output_type": "execute_result"
    }
   ],
   "source": [
    "%pwd"
   ]
  },
  {
   "cell_type": "code",
   "execution_count": 3,
   "metadata": {},
   "outputs": [],
   "source": [
    "os.chdir(\"../\")"
   ]
  },
  {
   "cell_type": "code",
   "execution_count": 4,
   "metadata": {},
   "outputs": [
    {
     "data": {
      "text/plain": [
       "'c:\\\\Users\\\\jhasu\\\\OneDrive\\\\Desktop\\\\chickenclassifier\\\\chickendisease_classification'"
      ]
     },
     "execution_count": 4,
     "metadata": {},
     "output_type": "execute_result"
    }
   ],
   "source": [
    "%pwd"
   ]
  },
  {
   "cell_type": "code",
   "execution_count": 5,
   "metadata": {},
   "outputs": [],
   "source": [
    "from dataclasses import dataclass\n",
    "from pathlib import Path\n",
    "\n",
    "@dataclass(frozen=True)\n",
    "class CallBackConfig:\n",
    "    root_dir:Path\n",
    "    tensorboard_root_log_dir:Path\n",
    "    checkpoint_model_filepath:Path"
   ]
  },
  {
   "cell_type": "code",
   "execution_count": 6,
   "metadata": {},
   "outputs": [],
   "source": [
    "from src.cnnClassifier.constants import *\n",
    "from src.cnnClassifier.utils.common import read_yaml,create_directory\n"
   ]
  },
  {
   "cell_type": "code",
   "execution_count": 11,
   "metadata": {},
   "outputs": [],
   "source": [
    "class CallBackConfigManager:\n",
    "    def __init__(self,\n",
    "     config_filepath=CONFIG_FILE_PATH,\n",
    "     param_filepath=PARAM_FILE_PATH):\n",
    "        self.config = read_yaml(config_filepath)\n",
    "        self.param = read_yaml(param_filepath)\n",
    "        \n",
    "\n",
    "    def get_callback_config(self)->CallBackConfig:\n",
    "        config=self.config.prepare_callback\n",
    "        model_ckpt_dir= os.path.dirname(config.checkpoint_model_filepath)\n",
    "        create_directory([model_ckpt_dir,\n",
    "                          config.checkpoint_model_filepath])\n",
    "\n",
    "        callback_config= CallBackConfig(\n",
    "            root_dir=Path(config.root_dir),\n",
    "            tensorboard_root_log_dir=Path(config.tensorboard_log_dir),\n",
    "            checkpoint_model_filepath=Path(config.checkpoint_model_filepath)\n",
    "        )\n",
    "        return callback_config\n"
   ]
  },
  {
   "cell_type": "code",
   "execution_count": 8,
   "metadata": {},
   "outputs": [],
   "source": [
    "import os\n",
    "import urllib.request as request\n",
    "from zipfile import ZipFile\n",
    "import tensorflow as tf\n",
    "import time"
   ]
  },
  {
   "cell_type": "code",
   "execution_count": 9,
   "metadata": {},
   "outputs": [],
   "source": [
    "class preparecallback:\n",
    "    def __init__(self,config:CallBackConfig):\n",
    "        self.config=config\n",
    "\n",
    "    @property\n",
    "    def _create_tb_callbacks(self):\n",
    "        timestamp= time.strftime(\"%Y-%m-%d-%H-%M-%s\")\n",
    "        tb_ruuning_log_dir= os.path.join(\n",
    "            self.config.tensorboard_root_log_dir, \n",
    "            f\"ruuning_logs_at_{timestamp}\",)\n",
    "        return tf.keras.callbacks.TensorBoard(log_dir=tb_ruuning_log_dir)\n",
    "    \n",
    "    @property\n",
    "    def _create_ckpt_callbacks(self):\n",
    "        return tf.keras.callbacks.ModelCheckpoint(\n",
    "            filepath=self.config.checkpoint_model_filepath,\n",
    "            save_best_only= True\n",
    "        )\n",
    "\n",
    "    def get_tb_ckpt_callback(self):\n",
    "        return[\n",
    "            self._create_tb_callbacks,\n",
    "            self._create_ckpt_callbacks\n",
    "        ]"
   ]
  },
  {
   "cell_type": "code",
   "execution_count": 10,
   "metadata": {},
   "outputs": [
    {
     "name": "stdout",
     "output_type": "stream",
     "text": [
      "[2025-01-03 10:37:22,482: INFO : common : yaml file: config\\config.yaml loaded successfully ]\n",
      "[2025-01-03 10:37:22,487: INFO : common : yaml file: params.yaml loaded successfully ]\n",
      "[2025-01-03 10:37:22,490: INFO : common : Directory: artifacts/prepare_callback/tensorboard_log_dir created successfully ]\n",
      "[2025-01-03 10:37:22,490: INFO : common : Directory: artifacts/prepare_callback/checkpoint_dir/model.keras created successfully ]\n"
     ]
    }
   ],
   "source": [
    "try:\n",
    "    callback_config= CallBackConfigManager()\n",
    "    CallBack_Config_entity=callback_config.get_callback_config()\n",
    "    prep_callbacks= preparecallback(CallBack_Config_entity)\n",
    "    callbacklist= prep_callbacks._create_ckpt_callbacks\n",
    "except Exception as e:\n",
    "    raise e"
   ]
  }
 ],
 "metadata": {
  "kernelspec": {
   "display_name": "cenv",
   "language": "python",
   "name": "python3"
  },
  "language_info": {
   "codemirror_mode": {
    "name": "ipython",
    "version": 3
   },
   "file_extension": ".py",
   "mimetype": "text/x-python",
   "name": "python",
   "nbconvert_exporter": "python",
   "pygments_lexer": "ipython3",
   "version": "3.12.7"
  }
 },
 "nbformat": 4,
 "nbformat_minor": 2
}
